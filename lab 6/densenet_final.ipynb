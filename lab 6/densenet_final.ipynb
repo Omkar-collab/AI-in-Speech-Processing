{
  "nbformat": 4,
  "nbformat_minor": 0,
  "metadata": {
    "colab": {
      "provenance": []
    },
    "kernelspec": {
      "name": "python3",
      "display_name": "Python 3"
    },
    "language_info": {
      "name": "python"
    }
  },
  "cells": [
    {
      "cell_type": "code",
      "execution_count": null,
      "metadata": {
        "colab": {
          "base_uri": "https://localhost:8080/"
        },
        "id": "tfRKCNs_SxIj",
        "outputId": "a22a4cd3-6e67-4f35-9096-435c973841f9"
      },
      "outputs": [
        {
          "output_type": "stream",
          "name": "stdout",
          "text": [
            "Requirement already satisfied: tensorflow in /usr/local/lib/python3.10/dist-packages (2.15.0)\n",
            "Requirement already satisfied: absl-py>=1.0.0 in /usr/local/lib/python3.10/dist-packages (from tensorflow) (1.4.0)\n",
            "Requirement already satisfied: astunparse>=1.6.0 in /usr/local/lib/python3.10/dist-packages (from tensorflow) (1.6.3)\n",
            "Requirement already satisfied: flatbuffers>=23.5.26 in /usr/local/lib/python3.10/dist-packages (from tensorflow) (24.3.25)\n",
            "Requirement already satisfied: gast!=0.5.0,!=0.5.1,!=0.5.2,>=0.2.1 in /usr/local/lib/python3.10/dist-packages (from tensorflow) (0.5.4)\n",
            "Requirement already satisfied: google-pasta>=0.1.1 in /usr/local/lib/python3.10/dist-packages (from tensorflow) (0.2.0)\n",
            "Requirement already satisfied: h5py>=2.9.0 in /usr/local/lib/python3.10/dist-packages (from tensorflow) (3.9.0)\n",
            "Requirement already satisfied: libclang>=13.0.0 in /usr/local/lib/python3.10/dist-packages (from tensorflow) (18.1.1)\n",
            "Requirement already satisfied: ml-dtypes~=0.2.0 in /usr/local/lib/python3.10/dist-packages (from tensorflow) (0.2.0)\n",
            "Requirement already satisfied: numpy<2.0.0,>=1.23.5 in /usr/local/lib/python3.10/dist-packages (from tensorflow) (1.25.2)\n",
            "Requirement already satisfied: opt-einsum>=2.3.2 in /usr/local/lib/python3.10/dist-packages (from tensorflow) (3.3.0)\n",
            "Requirement already satisfied: packaging in /usr/local/lib/python3.10/dist-packages (from tensorflow) (24.0)\n",
            "Requirement already satisfied: protobuf!=4.21.0,!=4.21.1,!=4.21.2,!=4.21.3,!=4.21.4,!=4.21.5,<5.0.0dev,>=3.20.3 in /usr/local/lib/python3.10/dist-packages (from tensorflow) (3.20.3)\n",
            "Requirement already satisfied: setuptools in /usr/local/lib/python3.10/dist-packages (from tensorflow) (67.7.2)\n",
            "Requirement already satisfied: six>=1.12.0 in /usr/local/lib/python3.10/dist-packages (from tensorflow) (1.16.0)\n",
            "Requirement already satisfied: termcolor>=1.1.0 in /usr/local/lib/python3.10/dist-packages (from tensorflow) (2.4.0)\n",
            "Requirement already satisfied: typing-extensions>=3.6.6 in /usr/local/lib/python3.10/dist-packages (from tensorflow) (4.11.0)\n",
            "Requirement already satisfied: wrapt<1.15,>=1.11.0 in /usr/local/lib/python3.10/dist-packages (from tensorflow) (1.14.1)\n",
            "Requirement already satisfied: tensorflow-io-gcs-filesystem>=0.23.1 in /usr/local/lib/python3.10/dist-packages (from tensorflow) (0.37.0)\n",
            "Requirement already satisfied: grpcio<2.0,>=1.24.3 in /usr/local/lib/python3.10/dist-packages (from tensorflow) (1.63.0)\n",
            "Requirement already satisfied: tensorboard<2.16,>=2.15 in /usr/local/lib/python3.10/dist-packages (from tensorflow) (2.15.2)\n",
            "Requirement already satisfied: tensorflow-estimator<2.16,>=2.15.0 in /usr/local/lib/python3.10/dist-packages (from tensorflow) (2.15.0)\n",
            "Requirement already satisfied: keras<2.16,>=2.15.0 in /usr/local/lib/python3.10/dist-packages (from tensorflow) (2.15.0)\n",
            "Requirement already satisfied: wheel<1.0,>=0.23.0 in /usr/local/lib/python3.10/dist-packages (from astunparse>=1.6.0->tensorflow) (0.43.0)\n",
            "Requirement already satisfied: google-auth<3,>=1.6.3 in /usr/local/lib/python3.10/dist-packages (from tensorboard<2.16,>=2.15->tensorflow) (2.27.0)\n",
            "Requirement already satisfied: google-auth-oauthlib<2,>=0.5 in /usr/local/lib/python3.10/dist-packages (from tensorboard<2.16,>=2.15->tensorflow) (1.2.0)\n",
            "Requirement already satisfied: markdown>=2.6.8 in /usr/local/lib/python3.10/dist-packages (from tensorboard<2.16,>=2.15->tensorflow) (3.6)\n",
            "Requirement already satisfied: requests<3,>=2.21.0 in /usr/local/lib/python3.10/dist-packages (from tensorboard<2.16,>=2.15->tensorflow) (2.31.0)\n",
            "Requirement already satisfied: tensorboard-data-server<0.8.0,>=0.7.0 in /usr/local/lib/python3.10/dist-packages (from tensorboard<2.16,>=2.15->tensorflow) (0.7.2)\n",
            "Requirement already satisfied: werkzeug>=1.0.1 in /usr/local/lib/python3.10/dist-packages (from tensorboard<2.16,>=2.15->tensorflow) (3.0.3)\n",
            "Requirement already satisfied: cachetools<6.0,>=2.0.0 in /usr/local/lib/python3.10/dist-packages (from google-auth<3,>=1.6.3->tensorboard<2.16,>=2.15->tensorflow) (5.3.3)\n",
            "Requirement already satisfied: pyasn1-modules>=0.2.1 in /usr/local/lib/python3.10/dist-packages (from google-auth<3,>=1.6.3->tensorboard<2.16,>=2.15->tensorflow) (0.4.0)\n",
            "Requirement already satisfied: rsa<5,>=3.1.4 in /usr/local/lib/python3.10/dist-packages (from google-auth<3,>=1.6.3->tensorboard<2.16,>=2.15->tensorflow) (4.9)\n",
            "Requirement already satisfied: requests-oauthlib>=0.7.0 in /usr/local/lib/python3.10/dist-packages (from google-auth-oauthlib<2,>=0.5->tensorboard<2.16,>=2.15->tensorflow) (1.3.1)\n",
            "Requirement already satisfied: charset-normalizer<4,>=2 in /usr/local/lib/python3.10/dist-packages (from requests<3,>=2.21.0->tensorboard<2.16,>=2.15->tensorflow) (3.3.2)\n",
            "Requirement already satisfied: idna<4,>=2.5 in /usr/local/lib/python3.10/dist-packages (from requests<3,>=2.21.0->tensorboard<2.16,>=2.15->tensorflow) (3.7)\n",
            "Requirement already satisfied: urllib3<3,>=1.21.1 in /usr/local/lib/python3.10/dist-packages (from requests<3,>=2.21.0->tensorboard<2.16,>=2.15->tensorflow) (2.0.7)\n",
            "Requirement already satisfied: certifi>=2017.4.17 in /usr/local/lib/python3.10/dist-packages (from requests<3,>=2.21.0->tensorboard<2.16,>=2.15->tensorflow) (2024.2.2)\n",
            "Requirement already satisfied: MarkupSafe>=2.1.1 in /usr/local/lib/python3.10/dist-packages (from werkzeug>=1.0.1->tensorboard<2.16,>=2.15->tensorflow) (2.1.5)\n",
            "Requirement already satisfied: pyasn1<0.7.0,>=0.4.6 in /usr/local/lib/python3.10/dist-packages (from pyasn1-modules>=0.2.1->google-auth<3,>=1.6.3->tensorboard<2.16,>=2.15->tensorflow) (0.6.0)\n",
            "Requirement already satisfied: oauthlib>=3.0.0 in /usr/local/lib/python3.10/dist-packages (from requests-oauthlib>=0.7.0->google-auth-oauthlib<2,>=0.5->tensorboard<2.16,>=2.15->tensorflow) (3.2.2)\n",
            "Requirement already satisfied: matplotlib in /usr/local/lib/python3.10/dist-packages (3.7.1)\n",
            "Requirement already satisfied: contourpy>=1.0.1 in /usr/local/lib/python3.10/dist-packages (from matplotlib) (1.2.1)\n",
            "Requirement already satisfied: cycler>=0.10 in /usr/local/lib/python3.10/dist-packages (from matplotlib) (0.12.1)\n",
            "Requirement already satisfied: fonttools>=4.22.0 in /usr/local/lib/python3.10/dist-packages (from matplotlib) (4.51.0)\n",
            "Requirement already satisfied: kiwisolver>=1.0.1 in /usr/local/lib/python3.10/dist-packages (from matplotlib) (1.4.5)\n",
            "Requirement already satisfied: numpy>=1.20 in /usr/local/lib/python3.10/dist-packages (from matplotlib) (1.25.2)\n",
            "Requirement already satisfied: packaging>=20.0 in /usr/local/lib/python3.10/dist-packages (from matplotlib) (24.0)\n",
            "Requirement already satisfied: pillow>=6.2.0 in /usr/local/lib/python3.10/dist-packages (from matplotlib) (9.4.0)\n",
            "Requirement already satisfied: pyparsing>=2.3.1 in /usr/local/lib/python3.10/dist-packages (from matplotlib) (3.1.2)\n",
            "Requirement already satisfied: python-dateutil>=2.7 in /usr/local/lib/python3.10/dist-packages (from matplotlib) (2.8.2)\n",
            "Requirement already satisfied: six>=1.5 in /usr/local/lib/python3.10/dist-packages (from python-dateutil>=2.7->matplotlib) (1.16.0)\n"
          ]
        }
      ],
      "source": [
        "!pip install tensorflow\n",
        "!pip install matplotlib\n",
        "\n",
        "import tensorflow as tf\n",
        "from keras.applications import DenseNet121\n",
        "from tensorflow.keras.models import Sequential\n",
        "from tensorflow.keras.layers import Conv2D, MaxPooling2D, Flatten, Dense, Dropout\n",
        "from tensorflow.keras.applications import Xception\n",
        "from tensorflow.keras.optimizers import Adam\n",
        "from tensorflow.keras.layers import Dense, Dropout, GlobalAveragePooling2D\n",
        "from tensorflow.keras.preprocessing.image import ImageDataGenerator\n",
        "import matplotlib.pyplot as plt"
      ]
    },
    {
      "cell_type": "code",
      "source": [
        "from google.colab import drive\n",
        "drive.mount('/content/drive')"
      ],
      "metadata": {
        "colab": {
          "base_uri": "https://localhost:8080/"
        },
        "id": "9OPX0v5Sz1G7",
        "outputId": "fefc1ade-840c-440d-b936-3e052a0e463d"
      },
      "execution_count": 4,
      "outputs": [
        {
          "output_type": "stream",
          "name": "stdout",
          "text": [
            "Drive already mounted at /content/drive; to attempt to forcibly remount, call drive.mount(\"/content/drive\", force_remount=True).\n"
          ]
        }
      ]
    },
    {
      "cell_type": "code",
      "source": [
        "train_data_dir = '/content/drive/MyDrive/archive (1)/train'\n",
        "test_data_dir ='/content/drive/MyDrive/archive (1)/test'\n",
        "\n",
        "img_size = (48, 48)\n",
        "batch_size = 25\n"
      ],
      "metadata": {
        "id": "tcLhttMXS3c5"
      },
      "execution_count": 5,
      "outputs": []
    },
    {
      "cell_type": "code",
      "source": [
        "train_datagen = ImageDataGenerator(\n",
        "    rescale=1./255,\n",
        "    shear_range=0.2,\n",
        "    zoom_range=0.2,\n",
        "    horizontal_flip=True,\n",
        "    validation_split=0.2\n",
        ")"
      ],
      "metadata": {
        "id": "a-ys3obbTYbq"
      },
      "execution_count": 6,
      "outputs": []
    },
    {
      "cell_type": "code",
      "source": [
        "from imblearn.over_sampling import RandomOverSampler\n",
        "import numpy as np\n",
        "from keras.utils import to_categorical\n",
        "from keras.preprocessing.image import ImageDataGenerator\n",
        "\n",
        "# Load data\n",
        "train_datagen = ImageDataGenerator(\n",
        "    rescale=1./255,\n",
        "    shear_range=0.2,\n",
        "    zoom_range=0.2,\n",
        "    horizontal_flip=True,\n",
        "    validation_split=0.2  # Assuming you have a validation split\n",
        ")\n",
        "\n",
        "# Define oversampling strategy\n",
        "oversample = RandomOverSampler(sampling_strategy='auto')\n",
        "\n",
        "# Load training data and perform oversampling\n",
        "train_generator = train_datagen.flow_from_directory(\n",
        "    train_data_dir,\n",
        "    target_size=img_size,\n",
        "    batch_size=batch_size,\n",
        "    class_mode='categorical',\n",
        "    subset='training'\n",
        ")\n",
        "\n",
        "# Set the number of samples\n",
        "num_samples = train_generator.samples\n",
        "\n",
        "# Create an array of indices for oversampling\n",
        "indices = np.arange(num_samples).reshape(-1, 1)\n",
        "\n",
        "# Oversample the data\n",
        "X_resampled, y_resampled = oversample.fit_resample(indices, train_generator.classes)\n",
        "\n",
        "# Generate augmented data\n",
        "X_resampled_images = []\n",
        "y_resampled_images = []\n",
        "\n",
        "for index in X_resampled.flatten():\n",
        "    img, label = train_generator.next()\n",
        "    X_resampled_images.append(img[0])\n",
        "    y_resampled_images.append(label[0])\n",
        "\n",
        "X_resampled_images = np.array(X_resampled_images)\n",
        "y_resampled_images = np.array(y_resampled_images)\n",
        "\n",
        "# Create a new data generator for the oversampled data\n",
        "train_generator_resampled = train_datagen.flow(\n",
        "    X_resampled_images,\n",
        "    y_resampled_images,\n",
        "    batch_size=batch_size\n",
        ")\n",
        "\n",
        "# Load validation data\n",
        "validation_generator = train_datagen.flow_from_directory(\n",
        "    train_data_dir,\n",
        "    target_size=img_size,\n",
        "    batch_size=batch_size,\n",
        "    class_mode='categorical',\n",
        "    subset='validation'\n",
        ")\n",
        "\n",
        "# Load test data\n",
        "test_datagen = ImageDataGenerator(rescale=1./255)\n",
        "test_generator = test_datagen.flow_from_directory(\n",
        "    test_data_dir,\n",
        "    target_size=img_size,\n",
        "    batch_size=batch_size,\n",
        "    class_mode='categorical'\n",
        ")\n"
      ],
      "metadata": {
        "colab": {
          "base_uri": "https://localhost:8080/"
        },
        "id": "ND_zMp3PTFdQ",
        "outputId": "f8e53fed-ee7f-43ac-c8c2-0823fc722abb"
      },
      "execution_count": 12,
      "outputs": [
        {
          "output_type": "stream",
          "name": "stdout",
          "text": [
            "Found 2039 images belonging to 2 classes.\n",
            "Found 509 images belonging to 2 classes.\n",
            "Found 308 images belonging to 2 classes.\n"
          ]
        }
      ]
    },
    {
      "cell_type": "code",
      "source": [
        "import keras\n",
        "from keras.applications import DenseNet121\n",
        "from keras.models import Sequential\n",
        "from keras.layers import GlobalAveragePooling2D, Dense, Dropout\n",
        "from keras.optimizers import Adam\n",
        "\n",
        "# Define image size\n",
        "img_size = (224, 224)  # Example image size, modify as needed\n",
        "\n",
        "# Load the pre-trained DenseNet121 model\n",
        "base_model = DenseNet121(weights='imagenet', include_top=False, input_shape=(img_size[0], img_size[1], 3))\n",
        "\n",
        "# Freeze the layers of the pre-trained model\n",
        "for layer in base_model.layers:\n",
        "    layer.trainable = False\n",
        "\n",
        "# Create a new model on top of the pre-trained model\n",
        "model = Sequential()\n",
        "model.add(base_model)\n",
        "model.add(GlobalAveragePooling2D())\n",
        "model.add(Dense(256, activation='relu'))\n",
        "model.add(Dropout(0.5))\n",
        "model.add(Dense(128, activation='relu'))  # Second dense layer\n",
        "model.add(Dropout(0.5))\n",
        "model.add(Dense(64, activation='relu'))   # Third dense layer\n",
        "model.add(Dropout(0.5))\n",
        "model.add(Dense(32, activation='relu'))   # Fourth dense layer\n",
        "model.add(Dropout(0.5))\n",
        "model.add(Dense(len(train_generator.class_indices), activation='softmax'))\n",
        "\n",
        "# Compile the model\n",
        "model.compile(optimizer=Adam(lr=0.0001), loss='categorical_crossentropy', metrics=['accuracy'])\n",
        "\n",
        "# Summary of the model\n",
        "model.summary()\n"
      ],
      "metadata": {
        "colab": {
          "base_uri": "https://localhost:8080/"
        },
        "id": "roD3yoItTm-1",
        "outputId": "03888a2d-7055-4d9c-aba7-e02783629bae"
      },
      "execution_count": 15,
      "outputs": [
        {
          "output_type": "stream",
          "name": "stdout",
          "text": [
            "Downloading data from https://storage.googleapis.com/tensorflow/keras-applications/densenet/densenet121_weights_tf_dim_ordering_tf_kernels_notop.h5\n",
            "29084464/29084464 [==============================] - 0s 0us/step\n"
          ]
        },
        {
          "output_type": "stream",
          "name": "stderr",
          "text": [
            "WARNING:absl:`lr` is deprecated in Keras optimizer, please use `learning_rate` or use the legacy optimizer, e.g.,tf.keras.optimizers.legacy.Adam.\n"
          ]
        },
        {
          "output_type": "stream",
          "name": "stdout",
          "text": [
            "Model: \"sequential_1\"\n",
            "_________________________________________________________________\n",
            " Layer (type)                Output Shape              Param #   \n",
            "=================================================================\n",
            " densenet121 (Functional)    (None, 7, 7, 1024)        7037504   \n",
            "                                                                 \n",
            " global_average_pooling2d (  (None, 1024)              0         \n",
            " GlobalAveragePooling2D)                                         \n",
            "                                                                 \n",
            " dense_5 (Dense)             (None, 256)               262400    \n",
            "                                                                 \n",
            " dropout_4 (Dropout)         (None, 256)               0         \n",
            "                                                                 \n",
            " dense_6 (Dense)             (None, 128)               32896     \n",
            "                                                                 \n",
            " dropout_5 (Dropout)         (None, 128)               0         \n",
            "                                                                 \n",
            " dense_7 (Dense)             (None, 64)                8256      \n",
            "                                                                 \n",
            " dropout_6 (Dropout)         (None, 64)                0         \n",
            "                                                                 \n",
            " dense_8 (Dense)             (None, 32)                2080      \n",
            "                                                                 \n",
            " dropout_7 (Dropout)         (None, 32)                0         \n",
            "                                                                 \n",
            " dense_9 (Dense)             (None, 2)                 66        \n",
            "                                                                 \n",
            "=================================================================\n",
            "Total params: 7343202 (28.01 MB)\n",
            "Trainable params: 305698 (1.17 MB)\n",
            "Non-trainable params: 7037504 (26.85 MB)\n",
            "_________________________________________________________________\n"
          ]
        }
      ]
    },
    {
      "cell_type": "code",
      "source": [
        "\n",
        "model.compile(optimizer=Adam(lr=0.0001), loss='categorical_crossentropy', metrics=['accuracy'])\n",
        "\n",
        "# Train the model\n",
        "history=model.fit(\n",
        "    train_generator,\n",
        "    epochs=30,\n",
        "    validation_data=validation_generator\n",
        ")\n",
        "\n",
        "# Evaluating on the test set\n",
        "test_loss, test_acc = model.evaluate(test_generator)\n",
        "print(f'Test accuracy: {test_acc}')\n"
      ],
      "metadata": {
        "colab": {
          "base_uri": "https://localhost:8080/"
        },
        "id": "IVW0WdeZVHXq",
        "outputId": "4a854774-7057-475a-9e39-7afc9bc6bc8b"
      },
      "execution_count": 16,
      "outputs": [
        {
          "output_type": "stream",
          "name": "stderr",
          "text": [
            "WARNING:absl:`lr` is deprecated in Keras optimizer, please use `learning_rate` or use the legacy optimizer, e.g.,tf.keras.optimizers.legacy.Adam.\n"
          ]
        },
        {
          "output_type": "stream",
          "name": "stdout",
          "text": [
            "Epoch 1/30\n",
            "82/82 [==============================] - 41s 395ms/step - loss: 0.8625 - accuracy: 0.5135 - val_loss: 0.6893 - val_accuracy: 0.5246\n",
            "Epoch 2/30\n",
            "82/82 [==============================] - 33s 401ms/step - loss: 0.7097 - accuracy: 0.5390 - val_loss: 0.6873 - val_accuracy: 0.5619\n",
            "Epoch 3/30\n",
            "82/82 [==============================] - 32s 389ms/step - loss: 0.6823 - accuracy: 0.5817 - val_loss: 0.6588 - val_accuracy: 0.6228\n",
            "Epoch 4/30\n",
            "82/82 [==============================] - 27s 327ms/step - loss: 0.6592 - accuracy: 0.6047 - val_loss: 0.6608 - val_accuracy: 0.6031\n",
            "Epoch 5/30\n",
            "82/82 [==============================] - 29s 355ms/step - loss: 0.6318 - accuracy: 0.6312 - val_loss: 0.6500 - val_accuracy: 0.6169\n",
            "Epoch 6/30\n",
            "82/82 [==============================] - 33s 404ms/step - loss: 0.6225 - accuracy: 0.6513 - val_loss: 0.6629 - val_accuracy: 0.6130\n",
            "Epoch 7/30\n",
            "82/82 [==============================] - 32s 386ms/step - loss: 0.6087 - accuracy: 0.6915 - val_loss: 0.6564 - val_accuracy: 0.6051\n",
            "Epoch 8/30\n",
            "82/82 [==============================] - 32s 388ms/step - loss: 0.5832 - accuracy: 0.7048 - val_loss: 0.6800 - val_accuracy: 0.5992\n",
            "Epoch 9/30\n",
            "82/82 [==============================] - 32s 388ms/step - loss: 0.5780 - accuracy: 0.6964 - val_loss: 0.6511 - val_accuracy: 0.6189\n",
            "Epoch 10/30\n",
            "82/82 [==============================] - 28s 335ms/step - loss: 0.5649 - accuracy: 0.7141 - val_loss: 0.6550 - val_accuracy: 0.6189\n",
            "Epoch 11/30\n",
            "82/82 [==============================] - 28s 335ms/step - loss: 0.5594 - accuracy: 0.7146 - val_loss: 0.6581 - val_accuracy: 0.6365\n",
            "Epoch 12/30\n",
            "82/82 [==============================] - 39s 474ms/step - loss: 0.5510 - accuracy: 0.7239 - val_loss: 0.6437 - val_accuracy: 0.6582\n",
            "Epoch 13/30\n",
            "82/82 [==============================] - 29s 349ms/step - loss: 0.5405 - accuracy: 0.7283 - val_loss: 0.6546 - val_accuracy: 0.6385\n",
            "Epoch 14/30\n",
            "82/82 [==============================] - 26s 321ms/step - loss: 0.5281 - accuracy: 0.7293 - val_loss: 0.6424 - val_accuracy: 0.6464\n",
            "Epoch 15/30\n",
            "82/82 [==============================] - 28s 335ms/step - loss: 0.5460 - accuracy: 0.7425 - val_loss: 0.6567 - val_accuracy: 0.6287\n",
            "Epoch 16/30\n",
            "82/82 [==============================] - 29s 349ms/step - loss: 0.5325 - accuracy: 0.7317 - val_loss: 0.6566 - val_accuracy: 0.6424\n",
            "Epoch 17/30\n",
            "82/82 [==============================] - 29s 354ms/step - loss: 0.5365 - accuracy: 0.7464 - val_loss: 0.6342 - val_accuracy: 0.6562\n",
            "Epoch 18/30\n",
            "82/82 [==============================] - 32s 390ms/step - loss: 0.5296 - accuracy: 0.7499 - val_loss: 0.6694 - val_accuracy: 0.6365\n",
            "Epoch 19/30\n",
            "82/82 [==============================] - 29s 351ms/step - loss: 0.5222 - accuracy: 0.7577 - val_loss: 0.6680 - val_accuracy: 0.6464\n",
            "Epoch 20/30\n",
            "82/82 [==============================] - 28s 339ms/step - loss: 0.5107 - accuracy: 0.7626 - val_loss: 0.6528 - val_accuracy: 0.6483\n",
            "Epoch 21/30\n",
            "82/82 [==============================] - 29s 355ms/step - loss: 0.5234 - accuracy: 0.7396 - val_loss: 0.6434 - val_accuracy: 0.6699\n",
            "Epoch 22/30\n",
            "82/82 [==============================] - 33s 403ms/step - loss: 0.5114 - accuracy: 0.7607 - val_loss: 0.6232 - val_accuracy: 0.6523\n",
            "Epoch 23/30\n",
            "82/82 [==============================] - 29s 353ms/step - loss: 0.4977 - accuracy: 0.7690 - val_loss: 0.6496 - val_accuracy: 0.6346\n",
            "Epoch 24/30\n",
            "82/82 [==============================] - 28s 338ms/step - loss: 0.5092 - accuracy: 0.7631 - val_loss: 0.6337 - val_accuracy: 0.6385\n",
            "Epoch 25/30\n",
            "82/82 [==============================] - 27s 324ms/step - loss: 0.4955 - accuracy: 0.7587 - val_loss: 0.6494 - val_accuracy: 0.6385\n",
            "Epoch 26/30\n",
            "82/82 [==============================] - 28s 339ms/step - loss: 0.4794 - accuracy: 0.7769 - val_loss: 0.6424 - val_accuracy: 0.6680\n",
            "Epoch 27/30\n",
            "82/82 [==============================] - 31s 371ms/step - loss: 0.5063 - accuracy: 0.7607 - val_loss: 0.6744 - val_accuracy: 0.6326\n",
            "Epoch 28/30\n",
            "82/82 [==============================] - 35s 425ms/step - loss: 0.4956 - accuracy: 0.7700 - val_loss: 0.6692 - val_accuracy: 0.6542\n",
            "Epoch 29/30\n",
            "82/82 [==============================] - 27s 325ms/step - loss: 0.4915 - accuracy: 0.7700 - val_loss: 0.6501 - val_accuracy: 0.6483\n",
            "Epoch 30/30\n",
            "82/82 [==============================] - 29s 346ms/step - loss: 0.4967 - accuracy: 0.7646 - val_loss: 0.6383 - val_accuracy: 0.6483\n",
            "13/13 [==============================] - 145s 12s/step - loss: 0.5101 - accuracy: 0.7500\n",
            "Test accuracy: 0.75\n"
          ]
        }
      ]
    },
    {
      "cell_type": "code",
      "source": [
        "plt.figure(figsize=(12, 6))\n",
        "plt.subplot(1, 2, 1)\n",
        "plt.plot(history.history['accuracy'])\n",
        "plt.plot(history.history['val_accuracy'])\n",
        "plt.title('Model accuracy')\n",
        "plt.ylabel('Accuracy')\n",
        "plt.xlabel('Epoch')\n",
        "plt.legend(['Train', 'Validation'], loc='upper left')\n",
        "\n",
        "# Plot training & validation loss values\n",
        "plt.subplot(1, 2, 2)\n",
        "plt.plot(history.history['loss'])\n",
        "plt.plot(history.history['val_loss'])\n",
        "plt.title('Model loss')\n",
        "plt.ylabel('Loss')\n",
        "plt.xlabel('Epoch')\n",
        "plt.legend(['Train', 'Validation'], loc='upper left')\n",
        "\n",
        "plt.tight_layout()\n",
        "plt.show()"
      ],
      "metadata": {
        "colab": {
          "base_uri": "https://localhost:8080/",
          "height": 369
        },
        "id": "2sAH--GuV2PP",
        "outputId": "0754107f-6364-4e94-bdd8-9cf11a72df35"
      },
      "execution_count": 17,
      "outputs": [
        {
          "output_type": "display_data",
          "data": {
            "text/plain": [
              "<Figure size 1200x600 with 2 Axes>"
            ],
            "image/png": "[encoded data removed]"
          },
          "metadata": {}
        }
      ]
    },
    {
      "cell_type": "code",
      "source": [
        "import numpy as np\n",
        "from tensorflow.keras.preprocessing import image\n",
        "\n",
        "# Path\n",
        "image_path = '/content/drive/MyDrive/archive (1)/test/autistic/003.jpg'\n",
        "\n",
        "img = image.load_img(image_path, target_size=(224, 224))\n",
        "img_array = image.img_to_array(img)\n",
        "img_array = np.expand_dims(img_array, axis=0)\n",
        "img_array /= 255.0  # Normalize the pixel values to be between 0 and 1\n",
        "\n",
        "predictions = model.predict(img_array)\n",
        "#outcome\n",
        "emotion_labels = ['Surprise', 'Delight', 'Sadness', 'Fear', 'Joy', 'Anger']\n",
        "predicted_emotion = emotion_labels[np.argmax(predictions)]\n",
        "\n",
        "# Print the predicted emotion\n",
        "print(f'The predicted emotion is: {predicted_emotion}')"
      ],
      "metadata": {
        "colab": {
          "base_uri": "https://localhost:8080/"
        },
        "id": "lSKsDieqV72u",
        "outputId": "f4b33faa-aacd-4d2e-baa3-37f0f9eed351"
      },
      "execution_count": 22,
      "outputs": [
        {
          "output_type": "stream",
          "name": "stdout",
          "text": [
            "1/1 [==============================] - 9s 9s/step\n",
            "The predicted emotion is: Surprise\n"
          ]
        }
      ]
    },
    {
      "cell_type": "code",
      "source": [
        "from sklearn.metrics import accuracy_score, classification_report, confusion_matrix, f1_score\n",
        "\n",
        "# test set\n",
        "test_loss, test_acc = model.evaluate(test_generator)\n",
        "print(f'Test accuracy: {test_acc}')\n",
        "\n",
        "y_true = test_generator.classes\n",
        "y_pred = model.predict(test_generator)\n",
        "y_pred_classes = np.argmax(y_pred, axis=1)\n",
        "\n",
        "# Calculating accuracy\n",
        "accuracy = accuracy_score(y_true, y_pred_classes)\n",
        "print(f'Accuracy: {accuracy}')\n",
        "\n",
        "# Calculating classification report\n",
        "target_names = list(test_generator.class_indices.keys())\n",
        "print(\"Classification Report:\")\n",
        "print(classification_report(y_true, y_pred_classes, target_names=target_names))\n",
        "\n",
        "# Calculating confusion matrix\n",
        "conf_matrix = confusion_matrix(y_true, y_pred_classes)\n",
        "print(\"Confusion Matrix:\")\n",
        "print(conf_matrix)\n",
        "\n",
        "# Calculating F1 score\n",
        "f1 = f1_score(y_true, y_pred_classes, average='weighted')\n",
        "print(f'F1 Score: {f1}')"
      ],
      "metadata": {
        "colab": {
          "base_uri": "https://localhost:8080/"
        },
        "id": "s_H99LzhWLaQ",
        "outputId": "d698b7ed-9c56-4e27-fa7e-1f47e0569e07"
      },
      "execution_count": 23,
      "outputs": [
        {
          "output_type": "stream",
          "name": "stdout",
          "text": [
            "13/13 [==============================] - 3s 234ms/step - loss: 0.5101 - accuracy: 0.7500\n",
            "Test accuracy: 0.75\n",
            "13/13 [==============================] - 6s 191ms/step\n",
            "Accuracy: 0.4383116883116883\n",
            "Classification Report:\n",
            "              precision    recall  f1-score   support\n",
            "\n",
            "    autistic       0.43      0.44      0.43       150\n",
            "non_autistic       0.45      0.44      0.44       158\n",
            "\n",
            "    accuracy                           0.44       308\n",
            "   macro avg       0.44      0.44      0.44       308\n",
            "weighted avg       0.44      0.44      0.44       308\n",
            "\n",
            "Confusion Matrix:\n",
            "[[66 84]\n",
            " [89 69]]\n",
            "F1 Score: 0.43840051151210285\n"
          ]
        }
      ]
    }
  ]
}